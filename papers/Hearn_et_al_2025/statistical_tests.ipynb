{
  "nbformat": 4,
  "nbformat_minor": 0,
  "metadata": {
    "colab": {
      "provenance": [],
      "authorship_tag": "ABX9TyMH49EqBM+oT+XMnhYggMPq",
      "include_colab_link": true
    },
    "kernelspec": {
      "name": "python3",
      "display_name": "Python 3"
    },
    "language_info": {
      "name": "python"
    }
  },
  "cells": [
    {
      "cell_type": "markdown",
      "metadata": {
        "id": "view-in-github",
        "colab_type": "text"
      },
      "source": [
        "<a href=\"https://colab.research.google.com/github/comparativechrono/microscoPi/blob/main/papers/Hearn_et_al_2025/statistical_tests.ipynb\" target=\"_parent\"><img src=\"https://colab.research.google.com/assets/colab-badge.svg\" alt=\"Open In Colab\"/></a>"
      ]
    },
    {
      "cell_type": "markdown",
      "source": [
        "# Photoperiodic and Intrinsic Circadian Regulation of Heart Rate in *Daphnia pulex*\n",
        "\n",
        "**Tim Hearn\\***<sup>1,2</sup>, **Millicenta Ampiah**<sup>1</sup>, **Linda King**<sup>2</sup>, **David Whitmore**<sup>3</sup>  \n",
        "<sup>1</sup>Department of Genomic Medicine, University of Cambridge, UK  \n",
        "<sup>2</sup>School of Life Sciences, Anglia Ruskin University, UK  \n",
        "<sup>3</sup>Australian Institute of Tropical Health and Medicine, James Cook University, Australia  \n",
        "\n",
        "\\*Corresponding author  \n",
        "\n",
        "---\n",
        "\n",
        "This Jupyter notebook contains the statistical analysis accompanying the study, including paired comparisons of heart rate measurements under different photoperiodic and diel time points. Statistical tests are selected based on the distribution of paired differences, and results are summarized with p-values and significance levels.\n"
      ],
      "metadata": {
        "id": "q82FJGZoJyWf"
      }
    },
    {
      "cell_type": "code",
      "source": [
        "import sys\n",
        "import scipy\n",
        "print(\"Python version:\", sys.version)\n",
        "print(\"SciPy version:\", scipy.__version__)\n"
      ],
      "metadata": {
        "id": "6jV9VKCCbhiz",
        "outputId": "9e3fc1dc-1b1e-462a-9aba-005595e82b29",
        "colab": {
          "base_uri": "https://localhost:8080/"
        }
      },
      "execution_count": 7,
      "outputs": [
        {
          "output_type": "stream",
          "name": "stdout",
          "text": [
            "Python version: 3.11.11 (main, Dec  4 2024, 08:55:07) [GCC 11.4.0]\n",
            "SciPy version: 1.14.1\n"
          ]
        }
      ]
    },
    {
      "cell_type": "code",
      "source": [
        "import numpy as np\n",
        "import pandas as pd\n",
        "import scipy.stats as stats"
      ],
      "metadata": {
        "id": "bQAkWNbKZvpb"
      },
      "execution_count": 8,
      "outputs": []
    },
    {
      "cell_type": "code",
      "source": [
        "pip install scikit_posthocs"
      ],
      "metadata": {
        "id": "Jkqv81ZhNVME"
      },
      "execution_count": null,
      "outputs": []
    },
    {
      "cell_type": "markdown",
      "source": [
        "This creates a dictionary called `entrained`. The dictionary stores peak and trough measurement data for various diel cycle comparisons under long and short day conditions. Each key represents a time point comparison, with corresponding lists of values for each time point.\n"
      ],
      "metadata": {
        "id": "4pWn1R_nIPec"
      }
    },
    {
      "cell_type": "code",
      "source": [
        "# Long day and short day diel cycles peak and troughs to test\n",
        "entrained = {\n",
        "    \"Time 9 vs Time 15\": {\n",
        "        \"Time 9\": [90, 94, 78, 72, 72, 96, 72, 66, 78, 98],\n",
        "        \"Time 15\": [87, 102, 114, 80, 96, 114, 82, 90, 96, 102]\n",
        "    },\n",
        "    \"Time 33 vs Time 39\": {\n",
        "        \"Time 33\": [85, 79, 74, 76, 68, 95, 77, 70, 76, 107],\n",
        "        \"Time 39\": [80, 104, 112, 65, 98, 110, 83, 90, 99, 102]\n",
        "    },\n",
        "    \"Time 3 vs Time 9\": {\n",
        "        \"Time 3\": [83, 79, 76, 66, 71, 92, 68, 60, 74, 105],\n",
        "        \"Time 9\": [84, 97, 108, 77, 95, 92, 81, 89, 93, 101]\n",
        "    },\n",
        "    \"Time 27 vs Time 33\": {\n",
        "        \"Time 27\": [85, 88, 74, 66, 72, 97, 69, 62, 75, 101],\n",
        "        \"Time 33\": [79, 106, 95, 73, 101, 114, 75, 85, 99, 96]\n",
        "    }\n",
        "}"
      ],
      "metadata": {
        "id": "b3vteLrGH_Rq"
      },
      "execution_count": 10,
      "outputs": []
    },
    {
      "cell_type": "markdown",
      "source": [
        "This creates a function called `perform_stat_test`. This function performs a paired statistical analysis on time point comparisons. It first tests for normality of the differences using the Shapiro-Wilk test. Based on the result, it applies either a paired t-test (parametric) or Wilcoxon signed-rank test (non-parametric). The function returns a summary DataFrame with the test used, p-values, and significance levels for each comparison.\n"
      ],
      "metadata": {
        "id": "SUEaPFB3I67C"
      }
    },
    {
      "cell_type": "code",
      "execution_count": 11,
      "metadata": {
        "id": "-iXiqUBSNH8o"
      },
      "outputs": [],
      "source": [
        "# Function to perform paired stats analysis on pairs\n",
        "def perform_stat_test(data_pairs):\n",
        "    results = []\n",
        "\n",
        "    for comparison, times in data_pairs.items():\n",
        "        group1, group2 = times.keys()\n",
        "        data1, data2 = np.array(times[group1]), np.array(times[group2])\n",
        "\n",
        "        # Normality test on differences\n",
        "        differences = data1 - data2\n",
        "        shapiro_diff = stats.shapiro(differences)\n",
        "\n",
        "        # Choose statistical test based on normality\n",
        "        if shapiro_diff.pvalue > 0.05:\n",
        "            t_test = stats.ttest_rel(data1, data2)  # Paired t-test\n",
        "            test_used = \"Paired t-test\"\n",
        "        else:\n",
        "            t_test = stats.wilcoxon(data1, data2)  # Wilcoxon signed-rank test (non-parametric alternative)\n",
        "            test_used = \"Wilcoxon signed-rank test\"\n",
        "\n",
        "        # Assign significance level asterisks\n",
        "        if t_test.pvalue <= 0.0001:\n",
        "            significance = \"****\"\n",
        "        elif t_test.pvalue <= 0.001:\n",
        "            significance = \"***\"\n",
        "        elif t_test.pvalue <= 0.01:\n",
        "            significance = \"**\"\n",
        "        elif t_test.pvalue <= 0.05:\n",
        "            significance = \"*\"\n",
        "        else:\n",
        "            significance = \"n.s.\"  # Not significant\n",
        "\n",
        "        # Store results\n",
        "        results.append({\n",
        "            \"Comparison\": comparison,\n",
        "            \"Test Used\": test_used,\n",
        "            \"Shapiro-Wilk p-value (Differences)\": shapiro_diff.pvalue,\n",
        "            \"Test Statistic\": t_test.statistic,\n",
        "            \"p-value\": t_test.pvalue,\n",
        "            \"Significance\": significance\n",
        "        })\n",
        "\n",
        "    return pd.DataFrame(results)\n",
        "\n"
      ]
    },
    {
      "cell_type": "markdown",
      "source": [
        "Run the paired statistical tests on all time point comparisons in the `entrained` dataset using the `perform_stat_test` function, and print the resulting summary DataFrame.\n"
      ],
      "metadata": {
        "id": "bsLZxP9kJF_l"
      }
    },
    {
      "cell_type": "code",
      "source": [
        "# Perform stats test on all comparisons\n",
        "stat_test_results = perform_stat_test(entrained)\n",
        "print(stat_test_results)"
      ],
      "metadata": {
        "colab": {
          "base_uri": "https://localhost:8080/"
        },
        "id": "ypm0JhtdIdXB",
        "outputId": "28e680dd-f860-4ca5-801b-322be61d7e50"
      },
      "execution_count": 12,
      "outputs": [
        {
          "output_type": "stream",
          "name": "stdout",
          "text": [
            "           Comparison      Test Used  Shapiro-Wilk p-value (Differences)  \\\n",
            "0   Time 9 vs Time 15  Paired t-test                            0.882579   \n",
            "1  Time 33 vs Time 39  Paired t-test                            0.578389   \n",
            "2    Time 3 vs Time 9  Paired t-test                            0.664056   \n",
            "3  Time 27 vs Time 33  Paired t-test                            0.269806   \n",
            "\n",
            "   Test Statistic   p-value Significance  \n",
            "0       -4.045872  0.002903           **  \n",
            "1       -2.590594  0.029185            *  \n",
            "2       -3.641220  0.005391           **  \n",
            "3       -3.459353  0.007168           **  \n"
          ]
        }
      ]
    }
  ]
}