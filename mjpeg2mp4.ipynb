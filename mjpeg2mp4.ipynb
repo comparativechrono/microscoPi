{
  "nbformat": 4,
  "nbformat_minor": 0,
  "metadata": {
    "colab": {
      "provenance": [],
      "authorship_tag": "ABX9TyMlQHGuwtSd9MJ+wXaAxQOg",
      "include_colab_link": true
    },
    "kernelspec": {
      "name": "python3",
      "display_name": "Python 3"
    },
    "language_info": {
      "name": "python"
    }
  },
  "cells": [
    {
      "cell_type": "markdown",
      "metadata": {
        "id": "view-in-github",
        "colab_type": "text"
      },
      "source": [
        "<a href=\"https://colab.research.google.com/github/comparativechrono/microscoPi/blob/main/mjpeg2mp4.ipynb\" target=\"_parent\"><img src=\"https://colab.research.google.com/assets/colab-badge.svg\" alt=\"Open In Colab\"/></a>"
      ]
    },
    {
      "cell_type": "markdown",
      "source": [
        "# Converting Raspberry Pi mjpeg to mp4 videos using ffmpeg"
      ],
      "metadata": {
        "id": "Yf0OcKenUKHP"
      }
    },
    {
      "cell_type": "code",
      "source": [
        "! apt install ffmpeg"
      ],
      "metadata": {
        "colab": {
          "base_uri": "https://localhost:8080/"
        },
        "id": "YqCo1o4ZQoio",
        "outputId": "4574c950-9cc4-4a6a-f60a-5dd8310eda6d"
      },
      "execution_count": null,
      "outputs": [
        {
          "output_type": "stream",
          "name": "stdout",
          "text": [
            "^C\n"
          ]
        }
      ]
    },
    {
      "cell_type": "code",
      "source": [
        "pip install ffmpeg-python"
      ],
      "metadata": {
        "colab": {
          "base_uri": "https://localhost:8080/"
        },
        "id": "FUD7x0vEQuvW",
        "outputId": "c011c945-aa1b-4a12-bcd0-e0405dc18594"
      },
      "execution_count": null,
      "outputs": [
        {
          "output_type": "stream",
          "name": "stdout",
          "text": [
            "Collecting ffmpeg-python\n",
            "  Downloading ffmpeg_python-0.2.0-py3-none-any.whl (25 kB)\n",
            "Requirement already satisfied: future in /usr/local/lib/python3.10/dist-packages (from ffmpeg-python) (0.18.3)\n",
            "Installing collected packages: ffmpeg-python\n",
            "Successfully installed ffmpeg-python-0.2.0\n"
          ]
        }
      ]
    },
    {
      "cell_type": "markdown",
      "source": [
        "convert single file"
      ],
      "metadata": {
        "id": "MG4oRmrOfrWx"
      }
    },
    {
      "cell_type": "code",
      "source": [
        "import ffmpeg\n",
        "\n",
        "def convert_mjpeg_to_mp4(input_file, output_file):\n",
        "    (\n",
        "        ffmpeg\n",
        "        .input(input_file, format='mjpeg')\n",
        "        .output(output_file, vcodec='libx264')\n",
        "        .run()\n",
        "    )\n",
        "\n",
        "input_file = 'heart6_2ir.mjpeg'\n",
        "output_file = 'output6_2ir.mp4'\n",
        "\n",
        "convert_mjpeg_to_mp4(input_file, output_file)\n"
      ],
      "metadata": {
        "id": "ne1BKBKLQ8EW"
      },
      "execution_count": null,
      "outputs": []
    },
    {
      "cell_type": "markdown",
      "source": [
        "convert all files"
      ],
      "metadata": {
        "id": "nN_3CgnyfuI-"
      }
    },
    {
      "cell_type": "code",
      "source": [
        "import ffmpeg\n",
        "import os\n",
        "\n",
        "def convert_mjpeg_to_mp4(input_file, output_file):\n",
        "    (\n",
        "        ffmpeg\n",
        "        .input(input_file, format='mjpeg')\n",
        "        .output(output_file, vcodec='libx264')\n",
        "        .run()\n",
        "    )\n",
        "\n",
        "def convert_all_mjpegs_in_directory(directory):\n",
        "    for filename in os.listdir(directory):\n",
        "        if filename.endswith(\".mjpeg\"):\n",
        "            input_file = os.path.join(directory, filename)\n",
        "            output_file = os.path.join(directory, filename.replace(\".mjpeg\", \".mp4\"))\n",
        "            convert_mjpeg_to_mp4(input_file, output_file)\n",
        "            print(f\"Converted {input_file} to {output_file}\")\n",
        "\n",
        "directory = '/'  # Replace with your directory path\n",
        "convert_all_mjpegs_in_directory(directory)\n"
      ],
      "metadata": {
        "id": "H7WMO75XgOpM"
      },
      "execution_count": null,
      "outputs": []
    },
    {
      "cell_type": "markdown",
      "source": [
        "In this script:\n",
        "\n",
        "*   Convert_all_mjpegs_in_directory function iterates over all files in the given directory.\n",
        "*   It checks if the file ends with .mjpeg. If it does, the function constructs the full input and output file paths.\n",
        "*   It then calls convert_mjpeg_to_mp4 for each .mjpeg file to perform the conversion.\n",
        "*   After converting each file, it prints a message indicating the conversion is done."
      ],
      "metadata": {
        "id": "SVPzxXKFgZFK"
      }
    }
  ]
}