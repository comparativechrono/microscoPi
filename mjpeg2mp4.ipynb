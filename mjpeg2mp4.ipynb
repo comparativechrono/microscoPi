{
  "nbformat": 4,
  "nbformat_minor": 0,
  "metadata": {
    "colab": {
      "provenance": [],
      "authorship_tag": "ABX9TyNtIH7rJZafPnXmWma0Jo4L",
      "include_colab_link": true
    },
    "kernelspec": {
      "name": "python3",
      "display_name": "Python 3"
    },
    "language_info": {
      "name": "python"
    }
  },
  "cells": [
    {
      "cell_type": "markdown",
      "metadata": {
        "id": "view-in-github",
        "colab_type": "text"
      },
      "source": [
        "<a href=\"https://colab.research.google.com/github/comparativechrono/microscoPi/blob/main/mjpeg2mp4.ipynb\" target=\"_parent\"><img src=\"https://colab.research.google.com/assets/colab-badge.svg\" alt=\"Open In Colab\"/></a>"
      ]
    },
    {
      "cell_type": "markdown",
      "source": [
        "# Converting Raspberry Pi mjpeg to mp4 videos using ffmpeg"
      ],
      "metadata": {
        "id": "Yf0OcKenUKHP"
      }
    },
    {
      "cell_type": "markdown",
      "source": [
        "Set up environment"
      ],
      "metadata": {
        "id": "t-6ACR8hrgmI"
      }
    },
    {
      "cell_type": "code",
      "source": [
        "! apt install ffmpeg"
      ],
      "metadata": {
        "colab": {
          "base_uri": "https://localhost:8080/"
        },
        "id": "YqCo1o4ZQoio",
        "outputId": "76d256e8-f056-4559-a509-39de40b38c04"
      },
      "execution_count": 1,
      "outputs": [
        {
          "output_type": "stream",
          "name": "stdout",
          "text": [
            "Reading package lists... Done\n",
            "Building dependency tree... Done\n",
            "Reading state information... Done\n",
            "ffmpeg is already the newest version (7:4.4.2-0ubuntu0.22.04.1).\n",
            "0 upgraded, 0 newly installed, 0 to remove and 6 not upgraded.\n"
          ]
        }
      ]
    },
    {
      "cell_type": "code",
      "source": [
        "pip install ffmpeg-python"
      ],
      "metadata": {
        "colab": {
          "base_uri": "https://localhost:8080/"
        },
        "id": "FUD7x0vEQuvW",
        "outputId": "7d919d1d-34c8-483f-cdd0-1efc3a3277b4"
      },
      "execution_count": 2,
      "outputs": [
        {
          "output_type": "stream",
          "name": "stdout",
          "text": [
            "Collecting ffmpeg-python\n",
            "  Downloading ffmpeg_python-0.2.0-py3-none-any.whl (25 kB)\n",
            "Requirement already satisfied: future in /usr/local/lib/python3.10/dist-packages (from ffmpeg-python) (0.18.3)\n",
            "Installing collected packages: ffmpeg-python\n",
            "Successfully installed ffmpeg-python-0.2.0\n"
          ]
        }
      ]
    },
    {
      "cell_type": "markdown",
      "source": [
        "convert single file"
      ],
      "metadata": {
        "id": "MG4oRmrOfrWx"
      }
    },
    {
      "cell_type": "code",
      "source": [
        "import ffmpeg\n",
        "\n",
        "def convert_mjpeg_to_mp4(input_file, output_file):\n",
        "    (\n",
        "        ffmpeg\n",
        "        .input(input_file, format='mjpeg')\n",
        "        .output(output_file, vcodec='libx264')\n",
        "        .run()\n",
        "    )\n",
        "\n",
        "input_file = 'heart6_2ir.mjpeg'\n",
        "output_file = 'output6_2ir.mp4'\n",
        "\n",
        "convert_mjpeg_to_mp4(input_file, output_file)\n"
      ],
      "metadata": {
        "id": "ne1BKBKLQ8EW"
      },
      "execution_count": null,
      "outputs": []
    },
    {
      "cell_type": "markdown",
      "source": [
        "convert all files"
      ],
      "metadata": {
        "id": "nN_3CgnyfuI-"
      }
    },
    {
      "cell_type": "code",
      "source": [
        "import ffmpeg\n",
        "import os\n",
        "\n",
        "def convert_mjpeg_to_mp4(input_file, output_file):\n",
        "    (\n",
        "        ffmpeg\n",
        "        .input(input_file, format='mjpeg')\n",
        "        .output(output_file, vcodec='libx264')\n",
        "        .run()\n",
        "    )\n",
        "\n",
        "def convert_all_mjpegs_in_directory(directory):\n",
        "    for filename in os.listdir(directory):\n",
        "        if filename.endswith(\".mjpeg\"):\n",
        "            input_file = os.path.join(directory, filename)\n",
        "            output_file = os.path.join(directory, filename.replace(\".mjpeg\", \".mp4\"))\n",
        "            convert_mjpeg_to_mp4(input_file, output_file)\n",
        "            print(f\"Converted {input_file} to {output_file}\")\n",
        "\n",
        "directory = '/content'  # Replace with your directory path\n",
        "convert_all_mjpegs_in_directory(directory)\n"
      ],
      "metadata": {
        "colab": {
          "base_uri": "https://localhost:8080/"
        },
        "id": "H7WMO75XgOpM",
        "outputId": "0f8ebfd4-b81d-437e-eb45-83a101231ad7"
      },
      "execution_count": 7,
      "outputs": [
        {
          "output_type": "stream",
          "name": "stdout",
          "text": [
            "Converted /content/heart1.mjpeg to /content/heart1.mp4\n",
            "Converted /content/heart3.mjpeg to /content/heart3.mp4\n"
          ]
        }
      ]
    },
    {
      "cell_type": "markdown",
      "source": [
        "In this script:\n",
        "\n",
        "*   Convert_all_mjpegs_in_directory function iterates over all files in the given directory.\n",
        "*   It checks if the file ends with .mjpeg. If it does, the function constructs the full input and output file paths.\n",
        "*   It then calls convert_mjpeg_to_mp4 for each .mjpeg file to perform the conversion.\n",
        "*   After converting each file, it prints a message indicating the conversion is done."
      ],
      "metadata": {
        "id": "SVPzxXKFgZFK"
      }
    }
  ]
}